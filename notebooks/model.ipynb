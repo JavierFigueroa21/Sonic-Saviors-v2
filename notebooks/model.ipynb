{
 "cells": [
  {
   "cell_type": "code",
   "execution_count": 2,
   "metadata": {
    "colab": {
     "base_uri": "https://localhost:8080/"
    },
    "id": "KGBI5RyRHzox",
    "outputId": "524a3f66-d885-498e-d041-b23383ba2d7b"
   },
   "outputs": [
    {
     "output_type": "stream",
     "name": "stdout",
     "text": [
      "cuda\n"
     ]
    }
   ],
   "source": [
    "from utils import make_dataloader, MainModel, train_model\n",
    "\n",
    "import mlflow\n",
    "import dagshub\n",
    "import torch\n",
    "from torchvision.models import inception_v3\n",
    "from torcheval.metrics import FrechetInceptionDistance as FID\n",
    "\n",
    "global device\n",
    "device = torch.device(\"cuda\" if torch.cuda.is_available() else \"cpu\")\n",
    "print(device)"
   ]
  },
  {
   "cell_type": "markdown",
   "metadata": {
    "id": "WLqfy_ZUJoqI"
   },
   "source": [
    "## Load dataset - Places365"
   ]
  },
  {
   "cell_type": "code",
   "source": [
    "path = ''\n",
    "\n",
    "train_loader = make_dataloader(dir_path=path, split='train_samples')\n",
    "print(len(train_loader))"
   ],
   "metadata": {
    "id": "nf0xyzV0H664",
    "colab": {
     "base_uri": "https://localhost:8080/"
    },
    "outputId": "63e4ca21-7f85-4097-9ac0-e9e60dc19674"
   },
   "execution_count": 7,
   "outputs": [
    {
     "output_type": "stream",
     "name": "stdout",
     "text": [
      "685\n"
     ]
    }
   ]
  },
  {
   "cell_type": "code",
   "outputs": [],
   "source": [
    "test_loader = make_dataloader(dir_path=path, split='test_samples', batch_size=1)\n",
    "print(len(test_loader))"
   ],
   "metadata": {
    "collapsed": false
   }
  },
  {
   "cell_type": "code",
   "outputs": [],
   "source": [
    "dagshub.init('churn-app', 'xagallegos', mlflow=True)\n",
    "mlflow.set_tracking_uri('https://dagshub.com/xagallegos/churn-app.mlflow')"
   ],
   "metadata": {
    "collapsed": false
   }
  },
  {
   "cell_type": "code",
   "outputs": [],
   "source": [
    "name_model = \"GAN\"\n",
    "epochs = 5\n",
    "\n",
    "parameters = {\n",
    "    \"lr_G\" : 2e-4,\n",
    "    \"lr_D\" : 2e-4,\n",
    "    \"beta1\" : 0.5,\n",
    "    \"beta2\" : 0.999,\n",
    "    \"lambda_L1\" : 100.\n",
    "}\n",
    "                  \n",
    "with mlflow.start_run(run_name=name_model):\n",
    "    \n",
    "    mlflow.log_param(\"model\", name_model)\n",
    "    mlflow.log_param(\"epochs\", epochs)\n",
    "    # Registrar parámetros del modelo\n",
    "    mlflow.log_params(parameters)\n",
    "    \n",
    "    # Entrena un clasificador AdaBoost\n",
    "    model = MainModel(**parameters)\n",
    "    train_model(model, train_loader, epochs=epochs, checkpoints_dir='')\n",
    "    \n",
    "    # FID metric\n",
    "    inception_model = inception_v3(pretrained=True)\n",
    "    inception_model.fc = torch.nn.Identity()\n",
    "    inception_model.eval()\n",
    "    \n",
    "    metric = FID()\n",
    "    \n",
    "    for data in test_loader:\n",
    "        pred = model.predict(data)\n",
    "        \n",
    "        real_features = inception_model(model.color)\n",
    "        fake_features = inception_model(pred)\n",
    "        \n",
    "        metric.update(real_features, real=True)\n",
    "        metric.update(fake_features, real=False)\n",
    "            \n",
    "    fid_score = metric.compute()        \n",
    "\n",
    "    # Registrar métricas\n",
    "    mlflow.log_metric(\"FID\", fid_score)\n",
    "    \n",
    "    # Registrar el modelo\n",
    "    mlflow.pytorch.log_model(model, name_model)\n",
    "    "
   ],
   "metadata": {
    "collapsed": false
   }
  }
 ],
 "metadata": {
  "colab": {
   "provenance": [],
   "collapsed_sections": [
    "OdOBqRWyv9SZ"
   ],
   "gpuType": "T4"
  },
  "kernelspec": {
   "display_name": "Python 3",
   "name": "python3"
  },
  "language_info": {
   "name": "python"
  },
  "accelerator": "GPU"
 },
 "nbformat": 4,
 "nbformat_minor": 0
}
