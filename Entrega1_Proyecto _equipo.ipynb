{
 "cells": [
  {
   "cell_type": "markdown",
   "metadata": {
    "collapsed": false,
    "jupyter": {
     "outputs_hidden": false
    }
   },
   "source": [
    "## Proyecto final\n",
    "1. Recuerde que se divide en dos partes:\n",
    "    - Informe escrito y código\n",
    "    - Presentación\n",
    "2. Habrá entregas parciales, las cuales son un prerrequisito para el proyecto final.\n",
    "    - La calificación de dichas entregas entran en el apartado de tares y trabajo en clase.\n",
    "    - Primera entrega:\n",
    "        + Introducción\n",
    "        + Antecedentes\n",
    "        + Objetivos\n",
    "        + Planteamiento del problema\n",
    "        + EDA\n",
    "        + Data Wrangling\n",
    "3. Crear un repositorio en Github, añadir a los compañeros como colaboradores.\n",
    "4. **Trabajo en clase (del proyecto) hoy Lunes 4 de Marzo de 2024.**\n",
    "5. Fecha de entrega: Lunes 11 de Marzo de 2024 a las 19:55"
   ]
  },
  {
   "cell_type": "markdown",
   "metadata": {
    "collapsed": false,
    "jupyter": {
     "outputs_hidden": false
    }
   },
   "source": [
    "___\n",
    "### Título del trabajo: Sonic Saviors v2\n",
    "\n",
    "#### 2. **Introducción:**\n",
    "\n",
    "La búsqueda de soluciones para la reducción o supresión de ruido en archivos de audio ha sido un desafío constante en el campo del procesamiento de señales. En esta nueva iteración de nuestro proyecto, denominado \"Sonic Saviors v2\", nos enfocamos en mejorar la calidad sonora de grabaciones contaminadas por ruido no deseado mediante el uso de técnicas avanzadas de ciencia de datos y aprendizaje profundo.\n",
    "\n",
    "#### 3. **Antecedentes:**\n",
    "\n",
    "El procesamiento de audio, especialmente en entornos donde la calidad del sonido es crucial, ha sido objeto de investigación durante décadas. En nuestro trabajo anterior, \"Sonic Saviors\", exploramos enfoques innovadores para la reducción de ruido en señales de audio utilizando autoencoders. Estas investigaciones previas nos han proporcionado una base sólida para abordar el problema actual y mejorar nuestras soluciones.\n",
    "\n",
    "#### 4. **Objetivos:**\n",
    "\n",
    "**Objetivos Generales:**\n",
    "El propósito fundamental de \"Sonic Saviors v2\" es aplicar conceptos avanzados de ciencia de datos y aprendizaje profundo para desarrollar un modelo que sea capaz de eliminar el ruido no deseado de las grabaciones de audio. Nuestro objetivo es mejorar significativamente la calidad sonora de las señales contaminadas por ruido.\n",
    "\n",
    "**Objetivos Específicos:**\n",
    "1. Realizar un exhaustivo análisis exploratorio de datos (EDA) para comprender las características y la distribución del ruido en las grabaciones de audio.\n",
    "2. Preprocesar y limpiar los datos para eliminar artefactos y valores atípicos que puedan afectar la calidad del modelo.\n",
    "3. Entrenar modelos de autoencoder utilizando técnicas de ciencia de datos avanzadas para la reducción de ruido en dos niveles: a nivel de características y a nivel de audio.\n",
    "4. Implementar un sistema de registro de experimentos utilizando MLflow para rastrear el rendimiento de los modelos y optimizar los parámetros.\n",
    "5. Seleccionar el mejor modelo en función de métricas de rendimiento y despliegue del modelo en una infraestructura en la nube para su uso práctico.\n",
    "\n",
    "#### 5. **Planteamiento del problema:**\n",
    "\n",
    "El ruido en las grabaciones de audio es un problema común que puede degradar significativamente la calidad del sonido y afectar la experiencia del usuario. En entornos donde la precisión y la fidelidad del audio son críticas, como en la industria de la música, la grabación de voz o la transmisión de audio, la presencia de ruido no deseado puede ser especialmente perjudicial. El desafío consiste en desarrollar un modelo eficaz que pueda discernir entre el ruido y la señal deseada, y eliminar selectivamente el ruido sin afectar negativamente la calidad del audio.\n",
    "\n",
    "#### 6. **Desarrollo de la solución:**\n",
    "Esta es la parte central del informe y debe dividirse en varias subsecciones:\n",
    "\n",
    "+ **EDA (Análisis Exploratorio de Datos):** Aquí, los estudiantes deben mostrar cómo exploraron y analizaron los datos, identificando tendencias, patrones y características importantes.\n",
    "\n",
    "+ **Data Wrangling:** En esta sección, se describe cómo se limpiaron y prepararon los datos para su análisis, incluyendo la eliminación de valores atípicos y la imputación de datos faltantes.\n",
    "\n",
    "+ **Dataset final a trabajar:** Los estudiantes deben explicar qué datos seleccionaron para su proyecto y por qué eligieron esos datos específicos.\n",
    "\n",
    "+ **Entrenamiento del modelo con MLflow:** En esta parte, se detalla cómo se entrenó el modelo de ciencia de datos. Deben utilizar MLflow para registrar los experimentos, incluyendo diferentes configuraciones de modelos y parámetros. Además, deben grabar métricas relevantes para evaluar el rendimiento de los modelos.\n",
    "\n",
    "+ **Selección del mejor modelo:** Con base en los experimentos registrados en MLflow, se debe identificar y seleccionar el modelo que mejor desempeño y métricas muestra.\n",
    "\n",
    "+ **Servir el modelo (API) con el mejor desempeño:** Describe cómo se creó una API para servir el modelo con el mejor rendimiento y métricas a través de una interfaz web o un servicio.\n",
    "\n",
    "+ **Conteneirizar del servicio:** Explica cómo se empaquetó el servicio y se subió a una plataforma de nube, lo que puede incluir el uso de contenedores como Docker.\n",
    "\n",
    "+ **Despliegue del servicio en la nube:** Detalla cómo se implementó el servicio en la nube, cómo se configuraron los recursos. La API se despliega utilizando el modelo que ha mostrado el mejor rendimiento y métricas durante los experimentos.\n",
    "\n",
    "\n",
    "#### 7. **Conclusiones:**\n",
    "En esta sección, los estudiantes deben resumir los resultados del proyecto, destacar los logros, discutir los desafíos enfrentados y brindar recomendaciones o posibles mejoras futuras.\n",
    "\n",
    "#### 8. **Referencias:**\n",
    "Dataset: https://research.google.com/audioset/dataset/speech.html\n",
    "\n",
    "Los estudiantes deben proporcionar una lista de todas las fuentes, libros, documentos técnicos, sitios web y recursos utilizados durante el proyecto. Esto incluye cualquier bibliografía y recursos citados en el informe."
   ]
  },
  {
   "cell_type": "markdown",
   "metadata": {},
   "source": [
    "NOTA: El proyecto se debe encontrar en un repositorio de `dagshub` que al mismo tiempo debe estar ligado a un repositorio en `github`.\n",
    "\n",
    "El repositorio debe tener la siguiente estructura\n",
    "\n",
    "```\n",
    "Proyecto de Ciencia de Datos\n",
    "├── Informe Escrito\n",
    "│   └── PrimerNombrePrimerApellido.ipynb\n",
    "├── Data\n",
    "│   ├── Raw Data (folder)\n",
    "│   └── Clean Data (folder)\n",
    "├── Entrenamiento\n",
    "│   └── training.ipynb\n",
    "├── EDA\n",
    "│   └── EDA.ipynb\n",
    "└── API\n",
    "    ├── app.py\n",
    "    ├── Dockerfile\n",
    "    └── requirements.txt\n",
    "```"
   ]
  },
  {
   "cell_type": "markdown",
   "metadata": {},
   "source": [
    "___\n",
    "## 2 Presentación.\n",
    "> Recuerden que la nota del proyecto es mitad el trabajo, y mitad la presentación. Deben hacer una presentación en power point para presentar el trabajo en la clase. La presentación, además de llevar todos los componentes básicos descritos en el entregable, debe llevar una tabla de contenido.\n",
    ">\n",
    "> - Presentación: 15 minutos.\n",
    "> - Seguir estas recomendaciones:\n",
    "    > - https://www.ncsl.org/legislative-staff/lscc/tips-for-making-effective-powerpoint-presentations\n",
    "    > - https://www.trentu.ca/academicskills/how-guides/how-write-university/how-approach-any-assignment/creating-effective-powerpoint-slides"
   ]
  },
  {
   "cell_type": "markdown",
   "metadata": {},
   "source": [
    "<script>\n",
    "  $(document).ready(function(){\n",
    "    $('div.prompt').hide();\n",
    "    $('div.back-to-top').hide();\n",
    "    $('nav#menubar').hide();\n",
    "    $('.breadcrumb').hide();\n",
    "    $('.hidden-print').hide();\n",
    "  });\n",
    "</script>\n",
    "\n",
    "<footer id=\"attribution\" style=\"float:right; color:#808080; background:#fff;\">\n",
    "Created with Jupyter by Cristian Camilo Zapata Zuluaga.\n",
    "</footer>"
   ]
  },
  {
   "cell_type": "markdown",
   "metadata": {},
   "source": [
    "Rafael Juarez Badillo Chavez, Xa"
   ]
  }
 ],
 "metadata": {
  "kernelspec": {
   "display_name": "Python 3 (ipykernel)",
   "language": "python",
   "name": "python3"
  },
  "language_info": {
   "codemirror_mode": {
    "name": "ipython",
    "version": 3
   },
   "file_extension": ".py",
   "mimetype": "text/x-python",
   "name": "python",
   "nbconvert_exporter": "python",
   "pygments_lexer": "ipython3",
   "version": "3.10.12"
  }
 },
 "nbformat": 4,
 "nbformat_minor": 4
}
