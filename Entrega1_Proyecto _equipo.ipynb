{
 "cells": [
  {
   "cell_type": "markdown",
   "metadata": {
    "collapsed": false
   },
   "source": [
    "### Título del trabajo: Chromatic Charm\n",
    "\n",
    "#### 2. **Introducción:**\n",
    "\n",
    "La búsqueda de soluciones para la colorización precisa de imágenes en blanco y negro ha sido un desafío constante en el campo del procesamiento de imágenes y visión por computadora. En esta nueva iteración de nuestro proyecto, denominado \"Chromatic-Charm\", nos enfocamos en mejorar la calidad visual de imágenes monocromáticas mediante el uso de técnicas avanzadas de ciencia de datos y aprendizaje profundo. Exploraremos cómo podemos agregar color de manera realista y convincente a estas imágenes, abriendo nuevas posibilidades creativas y prácticas en el ámbito de la visualización digital.\n",
    "\n",
    "Este proceso no solo requiere comprender la estructura y los detalles de las imágenes, sino también capturar la esencia y la tonalidad adecuadas para que el resultado final sea convincente para el ojo humano. A través del uso de técnicas avanzadas de aprendizaje profundo, exploraremos cómo podemos lograr esta transformación de manera eficaz y eficiente, abriendo nuevas posibilidades creativas y prácticas en el mundo de la visualización digital.\n",
    "\n",
    "#### 3. **Antecedentes:**\n",
    "Este proyecto revisita investigaciones previas que abordaron la colorización de imágenes mediante la implementación de autoencoders convolucionales ([Image-Colorization](https://github.com/xagallegos/Image-Colorization)). Aunque estos métodos demostraron cierto grado de capacidad para representar y generar imágenes en color, se descubrió que los resultados obtenidos no cumplían con los estándares deseados en cuanto a claridad y calidad visual. Estas limitaciones nos llevan a la exploración de nuevas metodologías, en este caso las GANs.\n",
    "\n",
    "A lo largo de este trabajo se referencia el trabajo de Isola, P., Zhu, J. Y., Zhou, T., & Efros, A. A. (2017). [Image-to-image translation with conditional adversarial networks](https://arxiv.org/pdf/1611.07004.pdf), quienes exploran las redes adversarias condicionales como una solución de propósito general para problemas de traducción de imagen a imagen. \n",
    "\n",
    "#### 4. **Objetivos:**\n",
    "\n",
    "**Objetivos Generales:**\n",
    "Aplicar conceptos avanzados de ciencia de datos y aprendizaje profundo para desarrollar un modelo que sea capaz de colorizar imágenes de forma efectiva, conservando los detalles y la calidad de las mismas.\n",
    "\n",
    "**Objetivos Específicos:**\n",
    "1. Encontrar y adaptar un dataset de imágenes en pares de blanco y negro y color.\n",
    "2. Realizar un exhaustivo análisis exploratorio de datos (EDA) para comprender las características y la distribución de las imágenes a blanco y negro, así como sus versiones a color.\n",
    "3. Preprocesar y limpiar las imágenes para eliminar artefactos y valores atípicos que puedan afectar la calidad del modelo de colorización.\n",
    "4. Entrenar modelos de Redes Generativas Adversarias (GANs) utilizando técnicas de ciencia de datos avanzadas para la colorización de imágnes. \n",
    "5. Implementar un sistema de registro de experimentos utilizando MLflow para rastrear el rendimiento de los modelos y optimizar los parámetros.\n",
    "6. Seleccionar el mejor modelo en función de métricas de rendimiento y despliegue del modelo en una infraestructura en la nube para su uso práctico.\n",
    "\n",
    "#### 5. **Planteamiento del problema:**\n",
    "El desafío consiste en desarrollar un modelo efectivo que pueda agregar color de manera precisa a imágenes en blanco y negro, preservando la calidad original, de manera que el resultado final sea capaz de pasar desapercibido como una imágen a color para el ojo humano.\n",
    "\n",
    "#### 6. **Desarrollo de la solución:**\n",
    "Esta es la parte central del informe y debe dividirse en varias subsecciones:\n",
    "\n",
    "+ **EDA (Análisis Exploratorio de Datos):** Aquí, los estudiantes deben mostrar cómo exploraron y analizaron los datos, identificando tendencias, patrones y características importantes.\n",
    "\n",
    "+ **Data Wrangling:** En esta sección, se describe cómo se limpiaron y prepararon los datos para su análisis, incluyendo la eliminación de valores atípicos y la imputación de datos faltantes.\n",
    "\n",
    "+ **Dataset final a trabajar:** Los estudiantes deben explicar qué datos seleccionaron para su proyecto y por qué eligieron esos datos específicos.\n",
    "\n",
    "+ **Entrenamiento del modelo con MLflow:** En esta parte, se detalla cómo se entrenó el modelo de ciencia de datos. Deben utilizar MLflow para registrar los experimentos, incluyendo diferentes configuraciones de modelos y parámetros. Además, deben grabar métricas relevantes para evaluar el rendimiento de los modelos.\n",
    "\n",
    "+ **Selección del mejor modelo:** Con base en los experimentos registrados en MLflow, se debe identificar y seleccionar el modelo que mejor desempeño y métricas muestra.\n",
    "\n",
    "+ **Servir el modelo (API) con el mejor desempeño:** Describe cómo se creó una API para servir el modelo con el mejor rendimiento y métricas a través de una interfaz web o un servicio.\n",
    "\n",
    "+ **Conteneirizar del servicio:** Explica cómo se empaquetó el servicio y se subió a una plataforma de nube, lo que puede incluir el uso de contenedores como Docker.\n",
    "\n",
    "+ **Despliegue del servicio en la nube:** Detalla cómo se implementó el servicio en la nube, cómo se configuraron los recursos. La API se despliega utilizando el modelo que ha mostrado el mejor rendimiento y métricas durante los experimentos.\n",
    "\n",
    "\n",
    "#### 7. **Conclusiones:**\n",
    "En esta sección, los estudiantes deben resumir los resultados del proyecto, destacar los logros, discutir los desafíos enfrentados y brindar recomendaciones o posibles mejoras futuras.\n",
    "\n",
    "#### 8. **Referencias:**\n",
    "Dataset: https://research.google.com/audioset/dataset/speech.html\n",
    "\n",
    "Los estudiantes deben proporcionar una lista de todas las fuentes, libros, documentos técnicos, sitios web y recursos utilizados durante el proyecto. Esto incluye cualquier bibliografía y recursos citados en el informe."
   ]
  },
  {
   "cell_type": "markdown",
   "metadata": {},
   "source": [
    "NOTA: El proyecto se debe encontrar en un repositorio de `dagshub` que al mismo tiempo debe estar ligado a un repositorio en `github`.\n",
    "\n",
    "El repositorio debe tener la siguiente estructura\n",
    "\n",
    "```\n",
    "Proyecto de Ciencia de Datos\n",
    "├── Informe Escrito\n",
    "│   └── PrimerNombrePrimerApellido.ipynb\n",
    "├── Data\n",
    "│   ├── Raw Data (folder)\n",
    "│   └── Clean Data (folder)\n",
    "├── Entrenamiento\n",
    "│   └── training.ipynb\n",
    "├── EDA\n",
    "│   └── EDA.ipynb\n",
    "└── API\n",
    "    ├── app.py\n",
    "    ├── Dockerfile\n",
    "    └── requirements.txt\n",
    "```"
   ]
  },
  {
   "cell_type": "markdown",
   "metadata": {},
   "source": [
    "___\n",
    "## 2 Presentación.\n",
    "> Recuerden que la nota del proyecto es mitad el trabajo, y mitad la presentación. Deben hacer una presentación en power point para presentar el trabajo en la clase. La presentación, además de llevar todos los componentes básicos descritos en el entregable, debe llevar una tabla de contenido.\n",
    ">\n",
    "> - Presentación: 15 minutos.\n",
    "> - Seguir estas recomendaciones:\n",
    "    > - https://www.ncsl.org/legislative-staff/lscc/tips-for-making-effective-powerpoint-presentations\n",
    "    > - https://www.trentu.ca/academicskills/how-guides/how-write-university/how-approach-any-assignment/creating-effective-powerpoint-slides"
   ]
  },
  {
   "cell_type": "markdown",
   "metadata": {},
   "source": [
    "<script>\n",
    "  $(document).ready(function(){\n",
    "    $('div.prompt').hide();\n",
    "    $('div.back-to-top').hide();\n",
    "    $('nav#menubar').hide();\n",
    "    $('.breadcrumb').hide();\n",
    "    $('.hidden-print').hide();\n",
    "  });\n",
    "</script>\n",
    "\n",
    "<footer id=\"attribution\" style=\"float:right; color:#808080; background:#fff;\">\n",
    "Created with Jupyter by Cristian Camilo Zapata Zuluaga.\n",
    "</footer>"
   ]
  },
  {
   "cell_type": "markdown",
   "metadata": {},
   "source": [
    "Rafael Juarez Badillo Chavez, Xander Gallegos"
   ]
  }
 ],
 "metadata": {
  "kernelspec": {
   "display_name": "Python 3 (ipykernel)",
   "language": "python",
   "name": "python3"
  },
  "language_info": {
   "codemirror_mode": {
    "name": "ipython",
    "version": 3
   },
   "file_extension": ".py",
   "mimetype": "text/x-python",
   "name": "python",
   "nbconvert_exporter": "python",
   "pygments_lexer": "ipython3",
   "version": "3.10.12"
  }
 },
 "nbformat": 4,
 "nbformat_minor": 4
}
